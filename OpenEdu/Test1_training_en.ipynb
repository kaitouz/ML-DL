{
  "nbformat": 4,
  "nbformat_minor": 0,
  "metadata": {
    "colab": {
      "name": "Test1_training.ipynb",
      "provenance": [],
      "collapsed_sections": [],
      "authorship_tag": "ABX9TyPvke8gtP4Gg9QWEJjQFaC0",
      "include_colab_link": true
    },
    "kernelspec": {
      "name": "python3",
      "display_name": "Python 3"
    },
    "language_info": {
      "name": "python"
    }
  },
  "cells": [
    {
      "cell_type": "markdown",
      "metadata": {
        "id": "view-in-github",
        "colab_type": "text"
      },
      "source": [
        "<a href=\"https://colab.research.google.com/github/kaitouz/ML-DL/blob/main/OpenEdu/Test1_training_en.ipynb\" target=\"_parent\"><img src=\"https://colab.research.google.com/assets/colab-badge.svg\" alt=\"Open In Colab\"/></a>"
      ]
    },
    {
      "cell_type": "code",
      "execution_count": null,
      "metadata": {
        "id": "KcclLu7j5Mw_"
      },
      "outputs": [],
      "source": [
        "import pandas as pd\n",
        "import numpy as np"
      ]
    },
    {
      "cell_type": "code",
      "source": [
        "# Upload and change the file name\n",
        "\n",
        "df = pd.read_csv('pulsar_stars_new.csv') "
      ],
      "metadata": {
        "id": "jrdDMfb37RoZ"
      },
      "execution_count": null,
      "outputs": []
    },
    {
      "cell_type": "code",
      "source": [
        "df.head()"
      ],
      "metadata": {
        "colab": {
          "base_uri": "https://localhost:8080/",
          "height": 206
        },
        "id": "iHu30QCq7buI",
        "outputId": "079b8250-0a0f-4e6a-8ce8-37caa1a5f34b"
      },
      "execution_count": null,
      "outputs": [
        {
          "output_type": "execute_result",
          "data": {
            "text/plain": [
              "          MIP      STDIP      EKIP       SIP        MC       STDC        EKC  \\\n",
              "0  140.562500  55.683782 -0.234571 -0.699648  3.199833  19.110426   7.975532   \n",
              "1  102.507812  58.882430  0.465318 -0.515088  1.677258  14.860146  10.576487   \n",
              "2  103.015625  39.341649  0.323328  1.051164  3.121237  21.744669   7.735822   \n",
              "3  136.750000  57.178449 -0.068415 -0.636238  3.642977  20.959280   6.896499   \n",
              "4   88.726562  40.672225  0.600866  1.123492  1.178930  11.468720  14.269573   \n",
              "\n",
              "           SC  TG  \n",
              "0   74.242225   0  \n",
              "1  127.393580   0  \n",
              "2   63.171909   0  \n",
              "3   53.593661   0  \n",
              "4  252.567306   0  "
            ],
            "text/html": [
              "\n",
              "  <div id=\"df-5792d3a2-69e8-47fc-bf1a-92e331bae4a7\">\n",
              "    <div class=\"colab-df-container\">\n",
              "      <div>\n",
              "<style scoped>\n",
              "    .dataframe tbody tr th:only-of-type {\n",
              "        vertical-align: middle;\n",
              "    }\n",
              "\n",
              "    .dataframe tbody tr th {\n",
              "        vertical-align: top;\n",
              "    }\n",
              "\n",
              "    .dataframe thead th {\n",
              "        text-align: right;\n",
              "    }\n",
              "</style>\n",
              "<table border=\"1\" class=\"dataframe\">\n",
              "  <thead>\n",
              "    <tr style=\"text-align: right;\">\n",
              "      <th></th>\n",
              "      <th>MIP</th>\n",
              "      <th>STDIP</th>\n",
              "      <th>EKIP</th>\n",
              "      <th>SIP</th>\n",
              "      <th>MC</th>\n",
              "      <th>STDC</th>\n",
              "      <th>EKC</th>\n",
              "      <th>SC</th>\n",
              "      <th>TG</th>\n",
              "    </tr>\n",
              "  </thead>\n",
              "  <tbody>\n",
              "    <tr>\n",
              "      <th>0</th>\n",
              "      <td>140.562500</td>\n",
              "      <td>55.683782</td>\n",
              "      <td>-0.234571</td>\n",
              "      <td>-0.699648</td>\n",
              "      <td>3.199833</td>\n",
              "      <td>19.110426</td>\n",
              "      <td>7.975532</td>\n",
              "      <td>74.242225</td>\n",
              "      <td>0</td>\n",
              "    </tr>\n",
              "    <tr>\n",
              "      <th>1</th>\n",
              "      <td>102.507812</td>\n",
              "      <td>58.882430</td>\n",
              "      <td>0.465318</td>\n",
              "      <td>-0.515088</td>\n",
              "      <td>1.677258</td>\n",
              "      <td>14.860146</td>\n",
              "      <td>10.576487</td>\n",
              "      <td>127.393580</td>\n",
              "      <td>0</td>\n",
              "    </tr>\n",
              "    <tr>\n",
              "      <th>2</th>\n",
              "      <td>103.015625</td>\n",
              "      <td>39.341649</td>\n",
              "      <td>0.323328</td>\n",
              "      <td>1.051164</td>\n",
              "      <td>3.121237</td>\n",
              "      <td>21.744669</td>\n",
              "      <td>7.735822</td>\n",
              "      <td>63.171909</td>\n",
              "      <td>0</td>\n",
              "    </tr>\n",
              "    <tr>\n",
              "      <th>3</th>\n",
              "      <td>136.750000</td>\n",
              "      <td>57.178449</td>\n",
              "      <td>-0.068415</td>\n",
              "      <td>-0.636238</td>\n",
              "      <td>3.642977</td>\n",
              "      <td>20.959280</td>\n",
              "      <td>6.896499</td>\n",
              "      <td>53.593661</td>\n",
              "      <td>0</td>\n",
              "    </tr>\n",
              "    <tr>\n",
              "      <th>4</th>\n",
              "      <td>88.726562</td>\n",
              "      <td>40.672225</td>\n",
              "      <td>0.600866</td>\n",
              "      <td>1.123492</td>\n",
              "      <td>1.178930</td>\n",
              "      <td>11.468720</td>\n",
              "      <td>14.269573</td>\n",
              "      <td>252.567306</td>\n",
              "      <td>0</td>\n",
              "    </tr>\n",
              "  </tbody>\n",
              "</table>\n",
              "</div>\n",
              "      <button class=\"colab-df-convert\" onclick=\"convertToInteractive('df-5792d3a2-69e8-47fc-bf1a-92e331bae4a7')\"\n",
              "              title=\"Convert this dataframe to an interactive table.\"\n",
              "              style=\"display:none;\">\n",
              "        \n",
              "  <svg xmlns=\"http://www.w3.org/2000/svg\" height=\"24px\"viewBox=\"0 0 24 24\"\n",
              "       width=\"24px\">\n",
              "    <path d=\"M0 0h24v24H0V0z\" fill=\"none\"/>\n",
              "    <path d=\"M18.56 5.44l.94 2.06.94-2.06 2.06-.94-2.06-.94-.94-2.06-.94 2.06-2.06.94zm-11 1L8.5 8.5l.94-2.06 2.06-.94-2.06-.94L8.5 2.5l-.94 2.06-2.06.94zm10 10l.94 2.06.94-2.06 2.06-.94-2.06-.94-.94-2.06-.94 2.06-2.06.94z\"/><path d=\"M17.41 7.96l-1.37-1.37c-.4-.4-.92-.59-1.43-.59-.52 0-1.04.2-1.43.59L10.3 9.45l-7.72 7.72c-.78.78-.78 2.05 0 2.83L4 21.41c.39.39.9.59 1.41.59.51 0 1.02-.2 1.41-.59l7.78-7.78 2.81-2.81c.8-.78.8-2.07 0-2.86zM5.41 20L4 18.59l7.72-7.72 1.47 1.35L5.41 20z\"/>\n",
              "  </svg>\n",
              "      </button>\n",
              "      \n",
              "  <style>\n",
              "    .colab-df-container {\n",
              "      display:flex;\n",
              "      flex-wrap:wrap;\n",
              "      gap: 12px;\n",
              "    }\n",
              "\n",
              "    .colab-df-convert {\n",
              "      background-color: #E8F0FE;\n",
              "      border: none;\n",
              "      border-radius: 50%;\n",
              "      cursor: pointer;\n",
              "      display: none;\n",
              "      fill: #1967D2;\n",
              "      height: 32px;\n",
              "      padding: 0 0 0 0;\n",
              "      width: 32px;\n",
              "    }\n",
              "\n",
              "    .colab-df-convert:hover {\n",
              "      background-color: #E2EBFA;\n",
              "      box-shadow: 0px 1px 2px rgba(60, 64, 67, 0.3), 0px 1px 3px 1px rgba(60, 64, 67, 0.15);\n",
              "      fill: #174EA6;\n",
              "    }\n",
              "\n",
              "    [theme=dark] .colab-df-convert {\n",
              "      background-color: #3B4455;\n",
              "      fill: #D2E3FC;\n",
              "    }\n",
              "\n",
              "    [theme=dark] .colab-df-convert:hover {\n",
              "      background-color: #434B5C;\n",
              "      box-shadow: 0px 1px 3px 1px rgba(0, 0, 0, 0.15);\n",
              "      filter: drop-shadow(0px 1px 2px rgba(0, 0, 0, 0.3));\n",
              "      fill: #FFFFFF;\n",
              "    }\n",
              "  </style>\n",
              "\n",
              "      <script>\n",
              "        const buttonEl =\n",
              "          document.querySelector('#df-5792d3a2-69e8-47fc-bf1a-92e331bae4a7 button.colab-df-convert');\n",
              "        buttonEl.style.display =\n",
              "          google.colab.kernel.accessAllowed ? 'block' : 'none';\n",
              "\n",
              "        async function convertToInteractive(key) {\n",
              "          const element = document.querySelector('#df-5792d3a2-69e8-47fc-bf1a-92e331bae4a7');\n",
              "          const dataTable =\n",
              "            await google.colab.kernel.invokeFunction('convertToInteractive',\n",
              "                                                     [key], {});\n",
              "          if (!dataTable) return;\n",
              "\n",
              "          const docLinkHtml = 'Like what you see? Visit the ' +\n",
              "            '<a target=\"_blank\" href=https://colab.research.google.com/notebooks/data_table.ipynb>data table notebook</a>'\n",
              "            + ' to learn more about interactive tables.';\n",
              "          element.innerHTML = '';\n",
              "          dataTable['output_type'] = 'display_data';\n",
              "          await google.colab.output.renderOutput(dataTable, element);\n",
              "          const docLink = document.createElement('div');\n",
              "          docLink.innerHTML = docLinkHtml;\n",
              "          element.appendChild(docLink);\n",
              "        }\n",
              "      </script>\n",
              "    </div>\n",
              "  </div>\n",
              "  "
            ]
          },
          "metadata": {},
          "execution_count": 3
        }
      ]
    },
    {
      "cell_type": "code",
      "source": [
        "# Select rows where MIP in [10, 100]  (delete rows with MIP < 10 or MIP > 100):\n",
        "\n",
        "df_mip_droped = df.drop( df[ (df['MIP'] < 10) | (df['MIP'] > 100) ].index )\n",
        "df_mip_droped.describe()     # You can find the results of the first 3 questions in the decrible() table."
      ],
      "metadata": {
        "colab": {
          "base_uri": "https://localhost:8080/",
          "height": 300
        },
        "id": "zf8snQgd7cJo",
        "outputId": "f494b4de-e556-4f6f-9a5f-0f5d3f5ece9f"
      },
      "execution_count": null,
      "outputs": [
        {
          "output_type": "execute_result",
          "data": {
            "text/plain": [
              "               MIP        STDIP         EKIP          SIP           MC  \\\n",
              "count  4218.000000  4218.000000  4218.000000  4218.000000  4218.000000   \n",
              "mean     77.053193    40.495154     1.560447     6.695481    22.300296   \n",
              "std      23.921711     6.811622     1.625623    10.435679    37.577891   \n",
              "min      10.007812    24.772042     0.053681    -1.040048     0.213211   \n",
              "25%      67.693359    35.893060     0.535942     1.029599     2.054975   \n",
              "50%      86.773438    39.783557     0.744213     2.144131     3.535535   \n",
              "75%      94.591797    44.600056     2.066990     6.402435    23.236413   \n",
              "max     100.000000    85.797340     8.069522    68.101622   206.529264   \n",
              "\n",
              "              STDC          EKC           SC           TG  \n",
              "count  4218.000000  4218.000000  4218.000000  4218.000000  \n",
              "mean     34.018199     7.018874    86.042132     0.340209  \n",
              "std      23.828540     4.980567   106.161774     0.473835  \n",
              "min       7.370432    -2.636857    -1.946039     0.000000  \n",
              "25%      15.230405     2.519296     5.512367     0.000000  \n",
              "50%      21.815022     7.294877    59.594262     0.000000  \n",
              "75%      53.907048    10.184636   123.746712     1.000000  \n",
              "max     109.655345    34.539844  1191.000837     1.000000  "
            ],
            "text/html": [
              "\n",
              "  <div id=\"df-3b4157ee-a78d-465b-96f0-7431cb5eae00\">\n",
              "    <div class=\"colab-df-container\">\n",
              "      <div>\n",
              "<style scoped>\n",
              "    .dataframe tbody tr th:only-of-type {\n",
              "        vertical-align: middle;\n",
              "    }\n",
              "\n",
              "    .dataframe tbody tr th {\n",
              "        vertical-align: top;\n",
              "    }\n",
              "\n",
              "    .dataframe thead th {\n",
              "        text-align: right;\n",
              "    }\n",
              "</style>\n",
              "<table border=\"1\" class=\"dataframe\">\n",
              "  <thead>\n",
              "    <tr style=\"text-align: right;\">\n",
              "      <th></th>\n",
              "      <th>MIP</th>\n",
              "      <th>STDIP</th>\n",
              "      <th>EKIP</th>\n",
              "      <th>SIP</th>\n",
              "      <th>MC</th>\n",
              "      <th>STDC</th>\n",
              "      <th>EKC</th>\n",
              "      <th>SC</th>\n",
              "      <th>TG</th>\n",
              "    </tr>\n",
              "  </thead>\n",
              "  <tbody>\n",
              "    <tr>\n",
              "      <th>count</th>\n",
              "      <td>4218.000000</td>\n",
              "      <td>4218.000000</td>\n",
              "      <td>4218.000000</td>\n",
              "      <td>4218.000000</td>\n",
              "      <td>4218.000000</td>\n",
              "      <td>4218.000000</td>\n",
              "      <td>4218.000000</td>\n",
              "      <td>4218.000000</td>\n",
              "      <td>4218.000000</td>\n",
              "    </tr>\n",
              "    <tr>\n",
              "      <th>mean</th>\n",
              "      <td>77.053193</td>\n",
              "      <td>40.495154</td>\n",
              "      <td>1.560447</td>\n",
              "      <td>6.695481</td>\n",
              "      <td>22.300296</td>\n",
              "      <td>34.018199</td>\n",
              "      <td>7.018874</td>\n",
              "      <td>86.042132</td>\n",
              "      <td>0.340209</td>\n",
              "    </tr>\n",
              "    <tr>\n",
              "      <th>std</th>\n",
              "      <td>23.921711</td>\n",
              "      <td>6.811622</td>\n",
              "      <td>1.625623</td>\n",
              "      <td>10.435679</td>\n",
              "      <td>37.577891</td>\n",
              "      <td>23.828540</td>\n",
              "      <td>4.980567</td>\n",
              "      <td>106.161774</td>\n",
              "      <td>0.473835</td>\n",
              "    </tr>\n",
              "    <tr>\n",
              "      <th>min</th>\n",
              "      <td>10.007812</td>\n",
              "      <td>24.772042</td>\n",
              "      <td>0.053681</td>\n",
              "      <td>-1.040048</td>\n",
              "      <td>0.213211</td>\n",
              "      <td>7.370432</td>\n",
              "      <td>-2.636857</td>\n",
              "      <td>-1.946039</td>\n",
              "      <td>0.000000</td>\n",
              "    </tr>\n",
              "    <tr>\n",
              "      <th>25%</th>\n",
              "      <td>67.693359</td>\n",
              "      <td>35.893060</td>\n",
              "      <td>0.535942</td>\n",
              "      <td>1.029599</td>\n",
              "      <td>2.054975</td>\n",
              "      <td>15.230405</td>\n",
              "      <td>2.519296</td>\n",
              "      <td>5.512367</td>\n",
              "      <td>0.000000</td>\n",
              "    </tr>\n",
              "    <tr>\n",
              "      <th>50%</th>\n",
              "      <td>86.773438</td>\n",
              "      <td>39.783557</td>\n",
              "      <td>0.744213</td>\n",
              "      <td>2.144131</td>\n",
              "      <td>3.535535</td>\n",
              "      <td>21.815022</td>\n",
              "      <td>7.294877</td>\n",
              "      <td>59.594262</td>\n",
              "      <td>0.000000</td>\n",
              "    </tr>\n",
              "    <tr>\n",
              "      <th>75%</th>\n",
              "      <td>94.591797</td>\n",
              "      <td>44.600056</td>\n",
              "      <td>2.066990</td>\n",
              "      <td>6.402435</td>\n",
              "      <td>23.236413</td>\n",
              "      <td>53.907048</td>\n",
              "      <td>10.184636</td>\n",
              "      <td>123.746712</td>\n",
              "      <td>1.000000</td>\n",
              "    </tr>\n",
              "    <tr>\n",
              "      <th>max</th>\n",
              "      <td>100.000000</td>\n",
              "      <td>85.797340</td>\n",
              "      <td>8.069522</td>\n",
              "      <td>68.101622</td>\n",
              "      <td>206.529264</td>\n",
              "      <td>109.655345</td>\n",
              "      <td>34.539844</td>\n",
              "      <td>1191.000837</td>\n",
              "      <td>1.000000</td>\n",
              "    </tr>\n",
              "  </tbody>\n",
              "</table>\n",
              "</div>\n",
              "      <button class=\"colab-df-convert\" onclick=\"convertToInteractive('df-3b4157ee-a78d-465b-96f0-7431cb5eae00')\"\n",
              "              title=\"Convert this dataframe to an interactive table.\"\n",
              "              style=\"display:none;\">\n",
              "        \n",
              "  <svg xmlns=\"http://www.w3.org/2000/svg\" height=\"24px\"viewBox=\"0 0 24 24\"\n",
              "       width=\"24px\">\n",
              "    <path d=\"M0 0h24v24H0V0z\" fill=\"none\"/>\n",
              "    <path d=\"M18.56 5.44l.94 2.06.94-2.06 2.06-.94-2.06-.94-.94-2.06-.94 2.06-2.06.94zm-11 1L8.5 8.5l.94-2.06 2.06-.94-2.06-.94L8.5 2.5l-.94 2.06-2.06.94zm10 10l.94 2.06.94-2.06 2.06-.94-2.06-.94-.94-2.06-.94 2.06-2.06.94z\"/><path d=\"M17.41 7.96l-1.37-1.37c-.4-.4-.92-.59-1.43-.59-.52 0-1.04.2-1.43.59L10.3 9.45l-7.72 7.72c-.78.78-.78 2.05 0 2.83L4 21.41c.39.39.9.59 1.41.59.51 0 1.02-.2 1.41-.59l7.78-7.78 2.81-2.81c.8-.78.8-2.07 0-2.86zM5.41 20L4 18.59l7.72-7.72 1.47 1.35L5.41 20z\"/>\n",
              "  </svg>\n",
              "      </button>\n",
              "      \n",
              "  <style>\n",
              "    .colab-df-container {\n",
              "      display:flex;\n",
              "      flex-wrap:wrap;\n",
              "      gap: 12px;\n",
              "    }\n",
              "\n",
              "    .colab-df-convert {\n",
              "      background-color: #E8F0FE;\n",
              "      border: none;\n",
              "      border-radius: 50%;\n",
              "      cursor: pointer;\n",
              "      display: none;\n",
              "      fill: #1967D2;\n",
              "      height: 32px;\n",
              "      padding: 0 0 0 0;\n",
              "      width: 32px;\n",
              "    }\n",
              "\n",
              "    .colab-df-convert:hover {\n",
              "      background-color: #E2EBFA;\n",
              "      box-shadow: 0px 1px 2px rgba(60, 64, 67, 0.3), 0px 1px 3px 1px rgba(60, 64, 67, 0.15);\n",
              "      fill: #174EA6;\n",
              "    }\n",
              "\n",
              "    [theme=dark] .colab-df-convert {\n",
              "      background-color: #3B4455;\n",
              "      fill: #D2E3FC;\n",
              "    }\n",
              "\n",
              "    [theme=dark] .colab-df-convert:hover {\n",
              "      background-color: #434B5C;\n",
              "      box-shadow: 0px 1px 3px 1px rgba(0, 0, 0, 0.15);\n",
              "      filter: drop-shadow(0px 1px 2px rgba(0, 0, 0, 0.3));\n",
              "      fill: #FFFFFF;\n",
              "    }\n",
              "  </style>\n",
              "\n",
              "      <script>\n",
              "        const buttonEl =\n",
              "          document.querySelector('#df-3b4157ee-a78d-465b-96f0-7431cb5eae00 button.colab-df-convert');\n",
              "        buttonEl.style.display =\n",
              "          google.colab.kernel.accessAllowed ? 'block' : 'none';\n",
              "\n",
              "        async function convertToInteractive(key) {\n",
              "          const element = document.querySelector('#df-3b4157ee-a78d-465b-96f0-7431cb5eae00');\n",
              "          const dataTable =\n",
              "            await google.colab.kernel.invokeFunction('convertToInteractive',\n",
              "                                                     [key], {});\n",
              "          if (!dataTable) return;\n",
              "\n",
              "          const docLinkHtml = 'Like what you see? Visit the ' +\n",
              "            '<a target=\"_blank\" href=https://colab.research.google.com/notebooks/data_table.ipynb>data table notebook</a>'\n",
              "            + ' to learn more about interactive tables.';\n",
              "          element.innerHTML = '';\n",
              "          dataTable['output_type'] = 'display_data';\n",
              "          await google.colab.output.renderOutput(dataTable, element);\n",
              "          const docLink = document.createElement('div');\n",
              "          docLink.innerHTML = docLinkHtml;\n",
              "          element.appendChild(docLink);\n",
              "        }\n",
              "      </script>\n",
              "    </div>\n",
              "  </div>\n",
              "  "
            ]
          },
          "metadata": {},
          "execution_count": 4
        }
      ]
    },
    {
      "cell_type": "code",
      "source": [
        "# Ans 1\n",
        "# Number of rows:\n",
        "df_mip_droped.shape[0]"
      ],
      "metadata": {
        "colab": {
          "base_uri": "https://localhost:8080/"
        },
        "id": "-5bnhBiWIxxr",
        "outputId": "94dfcda7-1e60-4281-840d-722c121f1fee"
      },
      "execution_count": null,
      "outputs": [
        {
          "output_type": "execute_result",
          "data": {
            "text/plain": [
              "4218"
            ]
          },
          "metadata": {},
          "execution_count": 5
        }
      ]
    },
    {
      "cell_type": "code",
      "source": [
        "# Ans 2\n",
        "# Mean value of column MIP\n",
        "df_mip_droped['MIP'].mean()"
      ],
      "metadata": {
        "colab": {
          "base_uri": "https://localhost:8080/"
        },
        "id": "93ciMDiUJAk4",
        "outputId": "0c092d60-c3b7-4ed8-b37c-0f77a3d162af"
      },
      "execution_count": null,
      "outputs": [
        {
          "output_type": "execute_result",
          "data": {
            "text/plain": [
              "77.0531927898293"
            ]
          },
          "metadata": {},
          "execution_count": 6
        }
      ]
    },
    {
      "cell_type": "code",
      "source": [
        "# Ans 3\n",
        "# Max value of column SIP\n",
        "df_mip_droped['SIP'].max()"
      ],
      "metadata": {
        "colab": {
          "base_uri": "https://localhost:8080/"
        },
        "id": "MFc8vE5jJPsI",
        "outputId": "92032354-39aa-4361-ea3e-3d2ab8a0696f"
      },
      "execution_count": null,
      "outputs": [
        {
          "output_type": "execute_result",
          "data": {
            "text/plain": [
              "68.10162173"
            ]
          },
          "metadata": {},
          "execution_count": 7
        }
      ]
    },
    {
      "cell_type": "code",
      "source": [
        "from sklearn.model_selection import train_test_split\n",
        "from sklearn.preprocessing import StandardScaler\n",
        "\n",
        "# Split data into 2 parts: train and test\n",
        "X_train, X_test, y_train, y_test = train_test_split(df_mip_droped.drop('TG', axis=1), df_mip_droped['TG'],test_size=0.3, random_state=2022)\n",
        "\n",
        "# Scale dataset\n",
        "scaler = StandardScaler().fit(X_train)   # fit scaler\n",
        "\n",
        "X_train_scaled = scaler.transform(X_train)\n",
        "X_test_scaled = scaler.transform(X_test)\n",
        "\n",
        "pd.DataFrame(X_train_scaled, columns=X_train.keys()).describe()  # You can find the results of the question no.4 in the decrible() table."
      ],
      "metadata": {
        "colab": {
          "base_uri": "https://localhost:8080/",
          "height": 300
        },
        "id": "LFjxI1hR9pAI",
        "outputId": "f28f085e-1885-42f0-eb6d-eb7ad2877635"
      },
      "execution_count": null,
      "outputs": [
        {
          "output_type": "execute_result",
          "data": {
            "text/plain": [
              "                MIP         STDIP          EKIP           SIP            MC  \\\n",
              "count  2.952000e+03  2.952000e+03  2.952000e+03  2.952000e+03  2.952000e+03   \n",
              "mean  -1.581090e-16  8.286055e-16 -1.556268e-16 -5.874554e-17  2.384422e-17   \n",
              "std    1.000169e+00  1.000169e+00  1.000169e+00  1.000169e+00  1.000169e+00   \n",
              "min   -2.807518e+00 -2.332053e+00 -9.164943e-01 -7.415141e-01 -5.877758e-01   \n",
              "25%   -3.960976e-01 -6.809554e-01 -6.319110e-01 -5.474000e-01 -5.376068e-01   \n",
              "50%    4.124572e-01 -1.127319e-01 -5.040198e-01 -4.379639e-01 -4.990788e-01   \n",
              "75%    7.292647e-01  6.157995e-01  3.111270e-01 -2.787460e-02  2.535213e-02   \n",
              "max    9.601166e-01  6.756997e+00  3.718850e+00  5.017658e+00  4.920303e+00   \n",
              "\n",
              "               STDC           EKC            SC  \n",
              "count  2.952000e+03  2.952000e+03  2.952000e+03  \n",
              "mean  -8.573013e-17  1.120754e-17 -4.121966e-17  \n",
              "std    1.000169e+00  1.000169e+00  1.000169e+00  \n",
              "min   -1.115491e+00 -1.947121e+00 -8.242289e-01  \n",
              "25%   -7.834556e-01 -9.053585e-01 -7.535388e-01  \n",
              "50%   -5.110158e-01  6.055853e-02 -2.433453e-01  \n",
              "75%    8.216182e-01  6.300281e-01  3.440089e-01  \n",
              "max    3.107307e+00  5.561934e+00  1.042574e+01  "
            ],
            "text/html": [
              "\n",
              "  <div id=\"df-e135a340-3b0a-4f09-95e9-ede72eb04542\">\n",
              "    <div class=\"colab-df-container\">\n",
              "      <div>\n",
              "<style scoped>\n",
              "    .dataframe tbody tr th:only-of-type {\n",
              "        vertical-align: middle;\n",
              "    }\n",
              "\n",
              "    .dataframe tbody tr th {\n",
              "        vertical-align: top;\n",
              "    }\n",
              "\n",
              "    .dataframe thead th {\n",
              "        text-align: right;\n",
              "    }\n",
              "</style>\n",
              "<table border=\"1\" class=\"dataframe\">\n",
              "  <thead>\n",
              "    <tr style=\"text-align: right;\">\n",
              "      <th></th>\n",
              "      <th>MIP</th>\n",
              "      <th>STDIP</th>\n",
              "      <th>EKIP</th>\n",
              "      <th>SIP</th>\n",
              "      <th>MC</th>\n",
              "      <th>STDC</th>\n",
              "      <th>EKC</th>\n",
              "      <th>SC</th>\n",
              "    </tr>\n",
              "  </thead>\n",
              "  <tbody>\n",
              "    <tr>\n",
              "      <th>count</th>\n",
              "      <td>2.952000e+03</td>\n",
              "      <td>2.952000e+03</td>\n",
              "      <td>2.952000e+03</td>\n",
              "      <td>2.952000e+03</td>\n",
              "      <td>2.952000e+03</td>\n",
              "      <td>2.952000e+03</td>\n",
              "      <td>2.952000e+03</td>\n",
              "      <td>2.952000e+03</td>\n",
              "    </tr>\n",
              "    <tr>\n",
              "      <th>mean</th>\n",
              "      <td>-1.581090e-16</td>\n",
              "      <td>8.286055e-16</td>\n",
              "      <td>-1.556268e-16</td>\n",
              "      <td>-5.874554e-17</td>\n",
              "      <td>2.384422e-17</td>\n",
              "      <td>-8.573013e-17</td>\n",
              "      <td>1.120754e-17</td>\n",
              "      <td>-4.121966e-17</td>\n",
              "    </tr>\n",
              "    <tr>\n",
              "      <th>std</th>\n",
              "      <td>1.000169e+00</td>\n",
              "      <td>1.000169e+00</td>\n",
              "      <td>1.000169e+00</td>\n",
              "      <td>1.000169e+00</td>\n",
              "      <td>1.000169e+00</td>\n",
              "      <td>1.000169e+00</td>\n",
              "      <td>1.000169e+00</td>\n",
              "      <td>1.000169e+00</td>\n",
              "    </tr>\n",
              "    <tr>\n",
              "      <th>min</th>\n",
              "      <td>-2.807518e+00</td>\n",
              "      <td>-2.332053e+00</td>\n",
              "      <td>-9.164943e-01</td>\n",
              "      <td>-7.415141e-01</td>\n",
              "      <td>-5.877758e-01</td>\n",
              "      <td>-1.115491e+00</td>\n",
              "      <td>-1.947121e+00</td>\n",
              "      <td>-8.242289e-01</td>\n",
              "    </tr>\n",
              "    <tr>\n",
              "      <th>25%</th>\n",
              "      <td>-3.960976e-01</td>\n",
              "      <td>-6.809554e-01</td>\n",
              "      <td>-6.319110e-01</td>\n",
              "      <td>-5.474000e-01</td>\n",
              "      <td>-5.376068e-01</td>\n",
              "      <td>-7.834556e-01</td>\n",
              "      <td>-9.053585e-01</td>\n",
              "      <td>-7.535388e-01</td>\n",
              "    </tr>\n",
              "    <tr>\n",
              "      <th>50%</th>\n",
              "      <td>4.124572e-01</td>\n",
              "      <td>-1.127319e-01</td>\n",
              "      <td>-5.040198e-01</td>\n",
              "      <td>-4.379639e-01</td>\n",
              "      <td>-4.990788e-01</td>\n",
              "      <td>-5.110158e-01</td>\n",
              "      <td>6.055853e-02</td>\n",
              "      <td>-2.433453e-01</td>\n",
              "    </tr>\n",
              "    <tr>\n",
              "      <th>75%</th>\n",
              "      <td>7.292647e-01</td>\n",
              "      <td>6.157995e-01</td>\n",
              "      <td>3.111270e-01</td>\n",
              "      <td>-2.787460e-02</td>\n",
              "      <td>2.535213e-02</td>\n",
              "      <td>8.216182e-01</td>\n",
              "      <td>6.300281e-01</td>\n",
              "      <td>3.440089e-01</td>\n",
              "    </tr>\n",
              "    <tr>\n",
              "      <th>max</th>\n",
              "      <td>9.601166e-01</td>\n",
              "      <td>6.756997e+00</td>\n",
              "      <td>3.718850e+00</td>\n",
              "      <td>5.017658e+00</td>\n",
              "      <td>4.920303e+00</td>\n",
              "      <td>3.107307e+00</td>\n",
              "      <td>5.561934e+00</td>\n",
              "      <td>1.042574e+01</td>\n",
              "    </tr>\n",
              "  </tbody>\n",
              "</table>\n",
              "</div>\n",
              "      <button class=\"colab-df-convert\" onclick=\"convertToInteractive('df-e135a340-3b0a-4f09-95e9-ede72eb04542')\"\n",
              "              title=\"Convert this dataframe to an interactive table.\"\n",
              "              style=\"display:none;\">\n",
              "        \n",
              "  <svg xmlns=\"http://www.w3.org/2000/svg\" height=\"24px\"viewBox=\"0 0 24 24\"\n",
              "       width=\"24px\">\n",
              "    <path d=\"M0 0h24v24H0V0z\" fill=\"none\"/>\n",
              "    <path d=\"M18.56 5.44l.94 2.06.94-2.06 2.06-.94-2.06-.94-.94-2.06-.94 2.06-2.06.94zm-11 1L8.5 8.5l.94-2.06 2.06-.94-2.06-.94L8.5 2.5l-.94 2.06-2.06.94zm10 10l.94 2.06.94-2.06 2.06-.94-2.06-.94-.94-2.06-.94 2.06-2.06.94z\"/><path d=\"M17.41 7.96l-1.37-1.37c-.4-.4-.92-.59-1.43-.59-.52 0-1.04.2-1.43.59L10.3 9.45l-7.72 7.72c-.78.78-.78 2.05 0 2.83L4 21.41c.39.39.9.59 1.41.59.51 0 1.02-.2 1.41-.59l7.78-7.78 2.81-2.81c.8-.78.8-2.07 0-2.86zM5.41 20L4 18.59l7.72-7.72 1.47 1.35L5.41 20z\"/>\n",
              "  </svg>\n",
              "      </button>\n",
              "      \n",
              "  <style>\n",
              "    .colab-df-container {\n",
              "      display:flex;\n",
              "      flex-wrap:wrap;\n",
              "      gap: 12px;\n",
              "    }\n",
              "\n",
              "    .colab-df-convert {\n",
              "      background-color: #E8F0FE;\n",
              "      border: none;\n",
              "      border-radius: 50%;\n",
              "      cursor: pointer;\n",
              "      display: none;\n",
              "      fill: #1967D2;\n",
              "      height: 32px;\n",
              "      padding: 0 0 0 0;\n",
              "      width: 32px;\n",
              "    }\n",
              "\n",
              "    .colab-df-convert:hover {\n",
              "      background-color: #E2EBFA;\n",
              "      box-shadow: 0px 1px 2px rgba(60, 64, 67, 0.3), 0px 1px 3px 1px rgba(60, 64, 67, 0.15);\n",
              "      fill: #174EA6;\n",
              "    }\n",
              "\n",
              "    [theme=dark] .colab-df-convert {\n",
              "      background-color: #3B4455;\n",
              "      fill: #D2E3FC;\n",
              "    }\n",
              "\n",
              "    [theme=dark] .colab-df-convert:hover {\n",
              "      background-color: #434B5C;\n",
              "      box-shadow: 0px 1px 3px 1px rgba(0, 0, 0, 0.15);\n",
              "      filter: drop-shadow(0px 1px 2px rgba(0, 0, 0, 0.3));\n",
              "      fill: #FFFFFF;\n",
              "    }\n",
              "  </style>\n",
              "\n",
              "      <script>\n",
              "        const buttonEl =\n",
              "          document.querySelector('#df-e135a340-3b0a-4f09-95e9-ede72eb04542 button.colab-df-convert');\n",
              "        buttonEl.style.display =\n",
              "          google.colab.kernel.accessAllowed ? 'block' : 'none';\n",
              "\n",
              "        async function convertToInteractive(key) {\n",
              "          const element = document.querySelector('#df-e135a340-3b0a-4f09-95e9-ede72eb04542');\n",
              "          const dataTable =\n",
              "            await google.colab.kernel.invokeFunction('convertToInteractive',\n",
              "                                                     [key], {});\n",
              "          if (!dataTable) return;\n",
              "\n",
              "          const docLinkHtml = 'Like what you see? Visit the ' +\n",
              "            '<a target=\"_blank\" href=https://colab.research.google.com/notebooks/data_table.ipynb>data table notebook</a>'\n",
              "            + ' to learn more about interactive tables.';\n",
              "          element.innerHTML = '';\n",
              "          dataTable['output_type'] = 'display_data';\n",
              "          await google.colab.output.renderOutput(dataTable, element);\n",
              "          const docLink = document.createElement('div');\n",
              "          docLink.innerHTML = docLinkHtml;\n",
              "          element.appendChild(docLink);\n",
              "        }\n",
              "      </script>\n",
              "    </div>\n",
              "  </div>\n",
              "  "
            ]
          },
          "metadata": {},
          "execution_count": 8
        }
      ]
    },
    {
      "cell_type": "code",
      "source": [
        "# Ans 4\n",
        "# Max value of SIP column after scale\n",
        "X_train_scaled[:, 3].max()       # 3 is the order of column SIP (MIP:0, STDIP:1, EKIP:2, SIP:3, ...)"
      ],
      "metadata": {
        "colab": {
          "base_uri": "https://localhost:8080/"
        },
        "id": "bhflgfdY-E2B",
        "outputId": "d1f066d7-3b65-4fc4-8cd9-87feb774ae75"
      },
      "execution_count": null,
      "outputs": [
        {
          "output_type": "execute_result",
          "data": {
            "text/plain": [
              "5.017657856636983"
            ]
          },
          "metadata": {},
          "execution_count": 9
        }
      ]
    },
    {
      "cell_type": "code",
      "source": [
        "from sklearn.linear_model import LogisticRegression \n",
        "\n",
        "clf = LogisticRegression(random_state=2022, solver='lbfgs').fit(X_train_scaled, y_train)"
      ],
      "metadata": {
        "id": "3a6E0wSJ-MLb"
      },
      "execution_count": null,
      "outputs": []
    },
    {
      "cell_type": "code",
      "source": [
        "# Ans 5\n",
        "clf.coef_   # Return a list of coefficients of features (MIP, STDIP, EKIP, SIP,...) -> coefficient of MIP is the first value (= clf.coef_[0][0])"
      ],
      "metadata": {
        "colab": {
          "base_uri": "https://localhost:8080/"
        },
        "id": "yq_gkoAUAbLJ",
        "outputId": "afde7ad8-5b9c-4d37-aaf3-528770ac8b12"
      },
      "execution_count": null,
      "outputs": [
        {
          "output_type": "execute_result",
          "data": {
            "text/plain": [
              "array([[ 1.39404327,  0.38737146,  6.84713889,  0.24108409, -0.79679633,\n",
              "         0.73942057, -0.4093821 , -0.16971728]])"
            ]
          },
          "metadata": {},
          "execution_count": 11
        }
      ]
    },
    {
      "cell_type": "code",
      "source": [
        "# Ans 6\n",
        "# Evaluation with test dataset\n",
        "clf.score(X_test_scaled, y_test)"
      ],
      "metadata": {
        "colab": {
          "base_uri": "https://localhost:8080/"
        },
        "id": "gVqhg6oUA0Nb",
        "outputId": "265ef0aa-12fa-4ba7-93cd-1e7c2c11e23e"
      },
      "execution_count": null,
      "outputs": [
        {
          "output_type": "execute_result",
          "data": {
            "text/plain": [
              "0.9344391785150079"
            ]
          },
          "metadata": {},
          "execution_count": 12
        }
      ]
    },
    {
      "cell_type": "code",
      "source": [
        "# Import new object\n",
        "new_star = [136.750000,57.178449,-0.068415,-0.636238,3.642977,20.959280,6.896499,53.593661]   \n",
        "new_star_transformed = scaler.transform([new_star])                                          # Scale new object"
      ],
      "metadata": {
        "colab": {
          "base_uri": "https://localhost:8080/"
        },
        "id": "bAImaa5_ET_Y",
        "outputId": "9c1fb359-7f19-4349-a4b3-699746394110"
      },
      "execution_count": null,
      "outputs": [
        {
          "output_type": "stream",
          "name": "stderr",
          "text": [
            "/usr/local/lib/python3.7/dist-packages/sklearn/base.py:451: UserWarning: X does not have valid feature names, but StandardScaler was fitted with feature names\n",
            "  \"X does not have valid feature names, but\"\n"
          ]
        }
      ]
    },
    {
      "cell_type": "code",
      "source": [
        "# Ans 7\n",
        "# Predict the probability that it belongs to the specified class (specified class: class that has the highest probability) -> = clf.predict_proba(new_star_transformed).max()\n",
        "clf.predict_proba(new_star_transformed)   # probability of new_star"
      ],
      "metadata": {
        "colab": {
          "base_uri": "https://localhost:8080/"
        },
        "id": "qLqxPW8YA8j4",
        "outputId": "d0969b0a-bc98-4b33-8a23-b9c0a1ad0155"
      },
      "execution_count": null,
      "outputs": [
        {
          "output_type": "execute_result",
          "data": {
            "text/plain": [
              "array([[0.92544067, 0.07455933]])"
            ]
          },
          "metadata": {},
          "execution_count": 14
        }
      ]
    },
    {
      "cell_type": "code",
      "source": [
        "from sklearn.neighbors import KNeighborsClassifier\n",
        "# n_neighbors: k \n",
        "# p = 1: manhattan_distance, 2: euclidean_distance\n",
        "neigh = KNeighborsClassifier(n_neighbors=5, p=2).fit(X_train_scaled, y_train)"
      ],
      "metadata": {
        "id": "M2Ciyy1eGUTh"
      },
      "execution_count": null,
      "outputs": []
    },
    {
      "cell_type": "code",
      "source": [
        "# Ans 8\n",
        "neigh.predict(new_star_transformed)"
      ],
      "metadata": {
        "colab": {
          "base_uri": "https://localhost:8080/"
        },
        "id": "Q-0bS0k4G11B",
        "outputId": "1a4bacf6-df71-4fd3-d0f2-38dbdad0174c"
      },
      "execution_count": null,
      "outputs": [
        {
          "output_type": "execute_result",
          "data": {
            "text/plain": [
              "array([0])"
            ]
          },
          "metadata": {},
          "execution_count": 16
        }
      ]
    },
    {
      "cell_type": "code",
      "source": [
        "# Ans 9\n",
        "neigh.kneighbors(new_star_transformed)   # There are 2 Arrays: The first array is the distance of the nearest k stars to new_star, the second is their index."
      ],
      "metadata": {
        "colab": {
          "base_uri": "https://localhost:8080/"
        },
        "id": "K0UHS9E-G_cY",
        "outputId": "07151230-2034-4192-ac9e-794127f1e1ef"
      },
      "execution_count": null,
      "outputs": [
        {
          "output_type": "execute_result",
          "data": {
            "text/plain": [
              "(array([[1.67919448, 1.6803295 , 1.69891163, 1.74096268, 1.74311307]]),\n",
              " array([[2738, 1693, 2209, 1259, 2469]]))"
            ]
          },
          "metadata": {},
          "execution_count": 17
        }
      ]
    }
  ]
}