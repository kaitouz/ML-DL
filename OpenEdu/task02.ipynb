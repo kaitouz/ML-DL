{
  "nbformat": 4,
  "nbformat_minor": 0,
  "metadata": {
    "colab": {
      "name": "task02.ipynb",
      "provenance": [],
      "collapsed_sections": [],
      "authorship_tag": "ABX9TyP2DL+soR/LpLoMD/y0vO+q",
      "include_colab_link": true
    },
    "kernelspec": {
      "name": "python3",
      "display_name": "Python 3"
    },
    "language_info": {
      "name": "python"
    }
  },
  "cells": [
    {
      "cell_type": "markdown",
      "metadata": {
        "id": "view-in-github",
        "colab_type": "text"
      },
      "source": [
        "<a href=\"https://colab.research.google.com/github/kaitouz/ML-DL/blob/main/OpenEdu/task02.ipynb\" target=\"_parent\"><img src=\"https://colab.research.google.com/assets/colab-badge.svg\" alt=\"Open In Colab\"/></a>"
      ]
    },
    {
      "cell_type": "markdown",
      "source": [
        "# INPUT"
      ],
      "metadata": {
        "id": "t_B3PM5fnr6g"
      }
    },
    {
      "cell_type": "code",
      "source": [
        "# Input 2.1\n",
        "file_name = '71_36.csv'\n",
        "\n",
        "# Input 2.2\n",
        "file_X_loadings = 'X_loadings_428.csv'\n",
        "file_X_reduced = 'X_reduced_428.csv'"
      ],
      "metadata": {
        "id": "aBAMebTLntnU"
      },
      "execution_count": 1,
      "outputs": []
    },
    {
      "cell_type": "markdown",
      "source": [
        "# Processing"
      ],
      "metadata": {
        "id": "Fd7AmqOAoX1s"
      }
    },
    {
      "cell_type": "markdown",
      "source": [
        "## Task 2.1"
      ],
      "metadata": {
        "id": "O2Wj0jh-oZ7y"
      }
    },
    {
      "cell_type": "code",
      "execution_count": 2,
      "metadata": {
        "id": "KycZYnfZrB0-"
      },
      "outputs": [],
      "source": [
        "import numpy as np\n",
        "import pandas as pd\n",
        "from pandas import *\n",
        "import matplotlib.pyplot as plt\n",
        "import sklearn\n",
        "from sklearn.decomposition import PCA"
      ]
    },
    {
      "cell_type": "code",
      "source": [
        "df = pd.read_csv(file_name, header=None)\n",
        "X = np.array(df)\n",
        "pca = PCA(n_components=2, svd_solver = 'full')\n",
        "X_transformed = pca.fit(X).transform(X)"
      ],
      "metadata": {
        "id": "U7b8ec3DsVl8"
      },
      "execution_count": 3,
      "outputs": []
    },
    {
      "cell_type": "markdown",
      "source": [
        "**Answer to Question No.1:** Введите координату первого объекта относительно первой главной компоненты.\n"
      ],
      "metadata": {
        "id": "PT5G2zcXqCgC"
      }
    },
    {
      "cell_type": "code",
      "source": [
        "X_transformed[0][0]"
      ],
      "metadata": {
        "colab": {
          "base_uri": "https://localhost:8080/"
        },
        "id": "Itw0OJYFtoJS",
        "outputId": "9ea9f40d-b614-4879-c140-c056fcd9ced3"
      },
      "execution_count": 4,
      "outputs": [
        {
          "output_type": "execute_result",
          "data": {
            "text/plain": [
              "40.97493190806326"
            ]
          },
          "metadata": {},
          "execution_count": 4
        }
      ]
    },
    {
      "cell_type": "markdown",
      "source": [
        "**Answer to Question No.2:** Введите координату первого объекта относительно второй главной компоненты.\n"
      ],
      "metadata": {
        "id": "pmPGgzS8qG98"
      }
    },
    {
      "cell_type": "code",
      "source": [
        "X_transformed[0][1]"
      ],
      "metadata": {
        "colab": {
          "base_uri": "https://localhost:8080/"
        },
        "id": "U5TRP4ZStp3i",
        "outputId": "0e6f56d0-1431-412e-b958-057df625df26"
      },
      "execution_count": 5,
      "outputs": [
        {
          "output_type": "execute_result",
          "data": {
            "text/plain": [
              "-4.522083501227768"
            ]
          },
          "metadata": {},
          "execution_count": 5
        }
      ]
    },
    {
      "cell_type": "markdown",
      "source": [
        "**Answer to Question No.3:** Введите долю объясненной дисперсии при использовании первых двух главных компонент.\n",
        "\n",
        "*(E.g answer = explained_variance[1] = 0.716)*"
      ],
      "metadata": {
        "id": "_rBlKaZmq6Js"
      }
    },
    {
      "cell_type": "code",
      "source": [
        "pca = PCA(n_components=10, svd_solver='full')\n",
        "X_full = pca.fit(X).transform(X)\n",
        "\n",
        "explained_variance = np.round(np.cumsum(pca.explained_variance_ratio_),3)\n",
        "explained_variance"
      ],
      "metadata": {
        "colab": {
          "base_uri": "https://localhost:8080/"
        },
        "id": "nTVe_Xniv3ym",
        "outputId": "5f0ae53f-b1c9-4a57-d22c-6e6a4dea2229"
      },
      "execution_count": 6,
      "outputs": [
        {
          "output_type": "execute_result",
          "data": {
            "text/plain": [
              "array([0.412, 0.716, 0.859, 0.949, 0.994, 0.996, 0.997, 0.998, 0.999,\n",
              "       1.   ])"
            ]
          },
          "metadata": {},
          "execution_count": 6
        }
      ]
    },
    {
      "cell_type": "markdown",
      "source": [
        "**Answer to Question No.3:** Какое минимальное количество главных компонент необходимо использовать, чтобы доля объясненной дисперсии превышала 0.85\n"
      ],
      "metadata": {
        "id": "H5ZhPwi1rB1i"
      }
    },
    {
      "cell_type": "code",
      "source": [
        "plt.plot(np.arange(10) + 1, explained_variance, ls = '-')"
      ],
      "metadata": {
        "colab": {
          "base_uri": "https://localhost:8080/",
          "height": 282
        },
        "id": "MPoCaII2v8iQ",
        "outputId": "b4a848b3-379c-4298-8e19-c45a5cacaf7c"
      },
      "execution_count": 7,
      "outputs": [
        {
          "output_type": "execute_result",
          "data": {
            "text/plain": [
              "[<matplotlib.lines.Line2D at 0x7f1c98e59b10>]"
            ]
          },
          "metadata": {},
          "execution_count": 7
        },
        {
          "output_type": "display_data",
          "data": {
            "text/plain": [
              "<Figure size 432x288 with 1 Axes>"
            ],
            "image/png": "[encoded data removed]"
          },
          "metadata": {
            "needs_background": "light"
          }
        }
      ]
    },
    {
      "cell_type": "markdown",
      "source": [
        "**Answer to Question No.4:** Какое количество групп объектов можно выделить, если использовать только первые две главных компоненты?\n"
      ],
      "metadata": {
        "id": "b6EAmZv2rDA-"
      }
    },
    {
      "cell_type": "code",
      "source": [
        "plt.scatter(X_transformed[:, 0], X_transformed[:, 1],edgecolor='none', s=40,cmap='winter')"
      ],
      "metadata": {
        "id": "qP6FEWJEpImQ",
        "outputId": "36f2fcda-09d0-47c6-f697-575ffa762ce9",
        "colab": {
          "base_uri": "https://localhost:8080/",
          "height": 282
        }
      },
      "execution_count": 8,
      "outputs": [
        {
          "output_type": "execute_result",
          "data": {
            "text/plain": [
              "<matplotlib.collections.PathCollection at 0x7f1c96941f50>"
            ]
          },
          "metadata": {},
          "execution_count": 8
        },
        {
          "output_type": "display_data",
          "data": {
            "text/plain": [
              "<Figure size 432x288 with 1 Axes>"
            ],
            "image/png": "[encoded data removed]"
          },
          "metadata": {
            "needs_background": "light"
          }
        }
      ]
    },
    {
      "cell_type": "markdown",
      "source": [
        "\n",
        "\n",
        "---\n",
        "\n"
      ],
      "metadata": {
        "id": "tJk_l5olyV1-"
      }
    },
    {
      "cell_type": "markdown",
      "source": [
        "## Task 2.2"
      ],
      "metadata": {
        "id": "av2LEQkwodMB"
      }
    },
    {
      "cell_type": "code",
      "source": [
        "scores = np.genfromtxt(file_X_reduced, delimiter=';')\n",
        "loadings = np.genfromtxt(file_X_loadings, delimiter=';')"
      ],
      "metadata": {
        "id": "bv9ZS9ScyWnF"
      },
      "execution_count": 9,
      "outputs": []
    },
    {
      "cell_type": "code",
      "source": [
        "values = np.dot(scores,loadings.T)\n",
        "values"
      ],
      "metadata": {
        "colab": {
          "base_uri": "https://localhost:8080/"
        },
        "id": "VGfBzsYsy2sR",
        "outputId": "852fa2cf-1735-476e-9c54-0c742d0bbf56"
      },
      "execution_count": 10,
      "outputs": [
        {
          "output_type": "execute_result",
          "data": {
            "text/plain": [
              "array([[7.85036448e-15, 4.67800940e-14, 1.66430936e-14, ...,\n",
              "        0.00000000e+00, 0.00000000e+00, 0.00000000e+00],\n",
              "       [7.85036448e-15, 4.67800940e-14, 1.66430936e-14, ...,\n",
              "        0.00000000e+00, 0.00000000e+00, 0.00000000e+00],\n",
              "       [7.85036448e-15, 4.67800940e-14, 1.66430936e-14, ...,\n",
              "        0.00000000e+00, 0.00000000e+00, 0.00000000e+00],\n",
              "       ...,\n",
              "       [7.85036448e-15, 4.67800940e-14, 1.66430936e-14, ...,\n",
              "        0.00000000e+00, 0.00000000e+00, 0.00000000e+00],\n",
              "       [7.85036448e-15, 4.67800940e-14, 1.66430936e-14, ...,\n",
              "        0.00000000e+00, 0.00000000e+00, 0.00000000e+00],\n",
              "       [7.85036448e-15, 4.67800940e-14, 1.66430936e-14, ...,\n",
              "        0.00000000e+00, 0.00000000e+00, 0.00000000e+00]])"
            ]
          },
          "metadata": {},
          "execution_count": 10
        }
      ]
    },
    {
      "cell_type": "code",
      "source": [
        "plt.imshow(values, cmap='Greys_r')\n"
      ],
      "metadata": {
        "colab": {
          "base_uri": "https://localhost:8080/",
          "height": 285
        },
        "id": "6iJyUKSey69w",
        "outputId": "7b886a2d-3fd0-4052-ff91-c61f45ad07c5"
      },
      "execution_count": 11,
      "outputs": [
        {
          "output_type": "execute_result",
          "data": {
            "text/plain": [
              "<matplotlib.image.AxesImage at 0x7f1c96862650>"
            ]
          },
          "metadata": {},
          "execution_count": 11
        },
        {
          "output_type": "display_data",
          "data": {
            "text/plain": [
              "<Figure size 432x288 with 1 Axes>"
            ],
            "image/png": "[encoded data removed]"
          },
          "metadata": {
            "needs_background": "light"
          }
        }
      ]
    }
  ]
}