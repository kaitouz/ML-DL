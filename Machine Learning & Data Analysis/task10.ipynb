{
  "nbformat": 4,
  "nbformat_minor": 0,
  "metadata": {
    "colab": {
      "name": "task10.ipynb",
      "provenance": [],
      "collapsed_sections": [],
      "authorship_tag": "ABX9TyMej5gQMvhP9NwG/AsVGYmR",
      "include_colab_link": true
    },
    "kernelspec": {
      "name": "python3",
      "display_name": "Python 3"
    },
    "language_info": {
      "name": "python"
    }
  },
  "cells": [
    {
      "cell_type": "markdown",
      "metadata": {
        "id": "view-in-github",
        "colab_type": "text"
      },
      "source": [
        "<a href=\"https://colab.research.google.com/github/kaitouz/OpenEdu/blob/main/Machine%20Learning%20%26%20Data%20Analysis/task10.ipynb\" target=\"_parent\"><img src=\"https://colab.research.google.com/assets/colab-badge.svg\" alt=\"Open In Colab\"/></a>"
      ]
    },
    {
      "cell_type": "code",
      "source": [
        "!unzip -o -q train_task.zip\n",
        "!unzip -o -q test_task.zip"
      ],
      "metadata": {
        "id": "E0vHGbQNgfaU"
      },
      "execution_count": 1,
      "outputs": []
    },
    {
      "cell_type": "code",
      "execution_count": 2,
      "metadata": {
        "colab": {
          "base_uri": "https://localhost:8080/"
        },
        "id": "jofNRRAqeQCj",
        "outputId": "f6216670-7d03-4562-c87c-27d3447d74ed"
      },
      "outputs": [
        {
          "output_type": "stream",
          "name": "stdout",
          "text": [
            "Requirement already satisfied: pip in /usr/local/lib/python3.7/dist-packages (22.0.4)\n",
            "\u001b[33mWARNING: Running pip as the 'root' user can result in broken permissions and conflicting behaviour with the system package manager. It is recommended to use a virtual environment instead: https://pip.pypa.io/warnings/venv\u001b[0m\u001b[33m\n",
            "\u001b[0mRequirement already satisfied: imutils in /usr/local/lib/python3.7/dist-packages (0.5.4)\n",
            "\u001b[33mWARNING: Running pip as the 'root' user can result in broken permissions and conflicting behaviour with the system package manager. It is recommended to use a virtual environment instead: https://pip.pypa.io/warnings/venv\u001b[0m\u001b[33m\n",
            "\u001b[0mRequirement already satisfied: opencv-python in /usr/local/lib/python3.7/dist-packages (4.1.2.30)\n",
            "Requirement already satisfied: numpy>=1.14.5 in /usr/local/lib/python3.7/dist-packages (from opencv-python) (1.21.6)\n",
            "\u001b[33mWARNING: Running pip as the 'root' user can result in broken permissions and conflicting behaviour with the system package manager. It is recommended to use a virtual environment instead: https://pip.pypa.io/warnings/venv\u001b[0m\u001b[33m\n",
            "\u001b[0mRequirement already satisfied: scikit-learn==0.23.0 in /usr/local/lib/python3.7/dist-packages (0.23.0)\n",
            "Requirement already satisfied: numpy>=1.13.3 in /usr/local/lib/python3.7/dist-packages (from scikit-learn==0.23.0) (1.21.6)\n",
            "Requirement already satisfied: joblib>=0.11 in /usr/local/lib/python3.7/dist-packages (from scikit-learn==0.23.0) (1.1.0)\n",
            "Requirement already satisfied: threadpoolctl>=2.0.0 in /usr/local/lib/python3.7/dist-packages (from scikit-learn==0.23.0) (3.1.0)\n",
            "Requirement already satisfied: scipy>=0.19.1 in /usr/local/lib/python3.7/dist-packages (from scikit-learn==0.23.0) (1.4.1)\n",
            "\u001b[33mWARNING: Running pip as the 'root' user can result in broken permissions and conflicting behaviour with the system package manager. It is recommended to use a virtual environment instead: https://pip.pypa.io/warnings/venv\u001b[0m\u001b[33m\n",
            "\u001b[0m"
          ]
        }
      ],
      "source": [
        "!pip install --upgrade pip\n",
        "!pip install imutils\n",
        "!pip install opencv-python\n",
        "!pip install --upgrade scikit-learn==0.23.0"
      ]
    },
    {
      "cell_type": "code",
      "source": [
        "from sklearn.ensemble import BaggingClassifier\n",
        "from sklearn.tree import DecisionTreeClassifier\n",
        "from sklearn.svm import LinearSVC\n",
        "from sklearn.ensemble import RandomForestClassifier\n",
        "from sklearn.linear_model import LogisticRegression\n",
        "from sklearn.ensemble import StackingClassifier\n",
        "from IPython.display import Image\n",
        "from imutils import paths\n",
        "import numpy as np\n",
        "import cv2\n",
        "import os"
      ],
      "metadata": {
        "id": "nzlGCjj0ecg4"
      },
      "execution_count": 12,
      "outputs": []
    },
    {
      "cell_type": "code",
      "source": [
        "def extract_histogram(image, bins=(8, 8, 8)):\n",
        "    hist = cv2.calcHist([image], [0, 1, 2], None, bins, [0, 256, 0, 256, 0, 256])\n",
        "    cv2.normalize(hist, hist)\n",
        "    return hist.flatten()"
      ],
      "metadata": {
        "id": "s66-aRanehgF"
      },
      "execution_count": 13,
      "outputs": []
    },
    {
      "cell_type": "code",
      "source": [
        "imagePaths = sorted(list(paths.list_images('train')))\n",
        "trainData = []\n",
        "labels = []\n",
        "\n",
        "for (i, imagePath) in enumerate(imagePaths):\n",
        "    image = cv2.imread(imagePath, 1)\n",
        "    label = imagePath.split(os.path.sep)[-1].split(\".\")[0]\n",
        "    hist = extract_histogram(image)\n",
        "    trainData.append(hist)\n",
        "    labels.append(label)\n",
        "  \n",
        "Y = [1 if x == 'cat' else 0 for x in labels]"
      ],
      "metadata": {
        "id": "5WZFRUcJekdR"
      },
      "execution_count": 23,
      "outputs": []
    },
    {
      "cell_type": "code",
      "source": [
        "from sklearn.svm import LinearSVC\n",
        "\n",
        "svm = LinearSVC(random_state = 225, C = 1.06)\n",
        "svm.fit(trainData, Y)"
      ],
      "metadata": {
        "colab": {
          "base_uri": "https://localhost:8080/"
        },
        "id": "xkcQMbH_hx1o",
        "outputId": "0b5c933d-e637-4061-fd20-aebf1b2e34da"
      },
      "execution_count": 24,
      "outputs": [
        {
          "output_type": "execute_result",
          "data": {
            "text/plain": [
              "LinearSVC(C=1.06, random_state=225)"
            ]
          },
          "metadata": {},
          "execution_count": 24
        }
      ]
    },
    {
      "cell_type": "code",
      "source": [
        "from sklearn.ensemble import BaggingClassifier\n",
        "from sklearn.tree import DecisionTreeClassifier\n",
        "\n",
        "tree = DecisionTreeClassifier(criterion='entropy', #критерий разделения\n",
        "                              min_samples_leaf=10, #минимальное число объектов в листе\n",
        "                              max_leaf_nodes=20, #максимальное число листьев\n",
        "                              random_state=225)\n",
        "bagging = BaggingClassifier(tree, #базовый алгоритм\n",
        "                            n_estimators=24, #количество деревьев\n",
        "                            random_state=225)\n",
        "bagging.fit(trainData, Y)"
      ],
      "metadata": {
        "colab": {
          "base_uri": "https://localhost:8080/"
        },
        "id": "LycShO2thvWo",
        "outputId": "2ae7875f-2191-4e16-af1e-315ffa246e9c"
      },
      "execution_count": 25,
      "outputs": [
        {
          "output_type": "execute_result",
          "data": {
            "text/plain": [
              "BaggingClassifier(base_estimator=DecisionTreeClassifier(criterion='entropy',\n",
              "                                                        max_leaf_nodes=20,\n",
              "                                                        min_samples_leaf=10,\n",
              "                                                        random_state=225),\n",
              "                  n_estimators=24, random_state=225)"
            ]
          },
          "metadata": {},
          "execution_count": 25
        }
      ]
    },
    {
      "cell_type": "code",
      "source": [
        "from sklearn.ensemble import RandomForestClassifier\n",
        "\n",
        "forest = RandomForestClassifier(n_estimators=24, #количество деревьев\n",
        "                                criterion='entropy', #критерий разделения\n",
        "                                min_samples_leaf=10, #минимальное число объектов в листе\n",
        "                                max_leaf_nodes=20, #максимальное число листьев\n",
        "                                random_state=225)\n",
        "forest.fit(trainData, Y)"
      ],
      "metadata": {
        "colab": {
          "base_uri": "https://localhost:8080/"
        },
        "id": "B0tya0iwh0BI",
        "outputId": "648a2459-72b5-4a6b-ee8e-13ac9d3b18dd"
      },
      "execution_count": 20,
      "outputs": [
        {
          "output_type": "execute_result",
          "data": {
            "text/plain": [
              "RandomForestClassifier(criterion='entropy', max_leaf_nodes=20,\n",
              "                       min_samples_leaf=10, n_estimators=24, random_state=225)"
            ]
          },
          "metadata": {},
          "execution_count": 20
        }
      ]
    },
    {
      "cell_type": "code",
      "source": [
        "from sklearn.linear_model import LogisticRegression\n",
        "\n",
        "lr = LogisticRegression(solver='lbfgs', random_state=225)"
      ],
      "metadata": {
        "id": "KNXlXNueiEU3"
      },
      "execution_count": 26,
      "outputs": []
    },
    {
      "cell_type": "code",
      "source": [
        "from sklearn.ensemble import StackingClassifier\n",
        "\n",
        "base_estimators = [('SVM', svm), ('Bagging DT', bagging), ('DecisionForest', forest)]\n",
        "sclf = StackingClassifier(estimators=base_estimators, final_estimator=lr, cv=2)\n",
        "sclf.fit(trainData, Y)"
      ],
      "metadata": {
        "colab": {
          "base_uri": "https://localhost:8080/"
        },
        "id": "pAZyNkEpiGoY",
        "outputId": "3279c387-8d11-4ac4-cd2e-50522d9528f5"
      },
      "execution_count": 27,
      "outputs": [
        {
          "output_type": "execute_result",
          "data": {
            "text/plain": [
              "StackingClassifier(cv=2,\n",
              "                   estimators=[('SVM', LinearSVC(C=1.06, random_state=225)),\n",
              "                               ('Bagging DT',\n",
              "                                BaggingClassifier(base_estimator=DecisionTreeClassifier(criterion='entropy',\n",
              "                                                                                        max_leaf_nodes=20,\n",
              "                                                                                        min_samples_leaf=10,\n",
              "                                                                                        random_state=225),\n",
              "                                                  n_estimators=24,\n",
              "                                                  random_state=225)),\n",
              "                               ('DecisionForest',\n",
              "                                RandomForestClassifier(criterion='entropy',\n",
              "                                                       max_leaf_nodes=20,\n",
              "                                                       min_samples_leaf=10,\n",
              "                                                       n_estimators=24,\n",
              "                                                       random_state=225))],\n",
              "                   final_estimator=LogisticRegression(random_state=225))"
            ]
          },
          "metadata": {},
          "execution_count": 27
        }
      ]
    },
    {
      "cell_type": "code",
      "source": [
        "sclf.score(trainData, Y)"
      ],
      "metadata": {
        "colab": {
          "base_uri": "https://localhost:8080/"
        },
        "id": "NIB6S5ZyjNrO",
        "outputId": "6ea88eec-cb15-4c1b-a59c-81a23b9f05fc"
      },
      "execution_count": 28,
      "outputs": [
        {
          "output_type": "execute_result",
          "data": {
            "text/plain": [
              "0.855"
            ]
          },
          "metadata": {},
          "execution_count": 28
        }
      ]
    },
    {
      "cell_type": "code",
      "source": [
        "def Predict_filename(file_name):\n",
        "  singleImage = cv2.imread(\"test/\" + file_name)\n",
        "  prediction = sclf.predict(extract_histogram(singleImage).reshape(1, -1))\n",
        "  display(Image(filename=\"test/\" + file_name))\n",
        "  print(f\"Ans = {prediction}\")\n",
        "  print(f\"Ans = {sclf.predict_proba(extract_histogram(singleImage).reshape(1, -1))}\")"
      ],
      "metadata": {
        "id": "HxJAQQJ0jVM7"
      },
      "execution_count": 36,
      "outputs": []
    },
    {
      "cell_type": "code",
      "source": [
        "Predict_filename(\"dog.1042.jpg\")"
      ],
      "metadata": {
        "colab": {
          "base_uri": "https://localhost:8080/",
          "height": 426
        },
        "id": "xZCegCdsjb3H",
        "outputId": "868d8223-73ab-43ce-9ceb-fb286a7d8518"
      },
      "execution_count": 41,
      "outputs": [
        {
          "output_type": "display_data",
          "data": {
            "text/plain": [
              "<IPython.core.display.Image object>"
            ],
            "image/jpeg": "[encoded data removed]"
          },
          "metadata": {}
        },
        {
          "output_type": "stream",
          "name": "stdout",
          "text": [
            "Ans = [1]\n",
            "Ans = [[0.40591734 0.59408266]]\n"
          ]
        }
      ]
    },
    {
      "cell_type": "code",
      "source": [
        ""
      ],
      "metadata": {
        "id": "hO8X7hSJjkDQ"
      },
      "execution_count": null,
      "outputs": []
    }
  ]
}